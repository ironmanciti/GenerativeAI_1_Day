{
 "cells": [
  {
   "cell_type": "markdown",
   "metadata": {
    "id": "P-GRFNX7b6ci"
   },
   "source": [
    "# 015. word2vec 작성\n",
    "\n",
    "- skipgram, window size 2 의 simplified word2vec model 작성"
   ]
  },
  {
   "cell_type": "markdown",
   "metadata": {
    "id": "Du4bBCGcxrsg"
   },
   "source": [
    "## 요약 (※ 순서를 지키지 않으면 한글 출력이 제대로 이루어지지 않을 수 있습니다.) \n",
    "\n",
    "1. Google Colab의 노트북에서 위의 코드를 먼저 한번 실행 (폰트 설치 단계)  \n",
    "2. 그 후 런타임 다시 시작 (설치된 폰트 적용 준비)  \n",
    "3. 다시 위의 코드를 실행 (폰트 적용)  \n",
    "4. 그 후 그래프 출력 코드 실행 (한글 정상 출력)  "
   ]
  },
  {
   "cell_type": "code",
   "execution_count": 28,
   "metadata": {
    "id": "ovD-1y7MwrHz"
   },
   "outputs": [],
   "source": [
    "# # 한글폰트 사용 in colab\n",
    "# %matplotlib inline  \n",
    "\n",
    "# import matplotlib as mpl \n",
    "# import matplotlib.pyplot as plt \n",
    "# import matplotlib.font_manager as fm  \n",
    "\n",
    "# !apt-get update -qq\n",
    "# !apt-get install fonts-nanum* -qq\n",
    "\n",
    "# path = '/usr/share/fonts/truetype/nanum/NanumBarunGothic.ttf' \n",
    "# font_name = fm.FontProperties(fname=path, size=10).get_name()\n",
    "# print(font_name)\n",
    "# plt.rc('font', family=font_name)\n",
    "\n",
    "# fm._rebuild()\n",
    "# mpl.rcParams['axes.unicode_minus'] = False"
   ]
  },
  {
   "cell_type": "code",
   "execution_count": 2,
   "metadata": {
    "id": "g5Dt6cnZb6ck"
   },
   "outputs": [],
   "source": [
    "import tensorflow as tf\n",
    "from tensorflow.keras.models import Sequential\n",
    "from tensorflow.keras.layers import Dense, Activation\n",
    "import numpy as np\n",
    "import re"
   ]
  },
  {
   "cell_type": "markdown",
   "metadata": {
    "id": "siVuUZ78b6cl"
   },
   "source": [
    "### Toy 말뭉치"
   ]
  },
  {
   "cell_type": "code",
   "execution_count": 29,
   "metadata": {
    "id": "7aq85IPqb6cm"
   },
   "outputs": [],
   "source": [
    "corpus = ['king is a very strong man', \n",
    "          'queen is a wise and pretty woman', \n",
    "          'boy is a young man',\n",
    "          'girl is a young and pretty woman',\n",
    "          'prince is young and will be a strong and wise king',\n",
    "          'princess is a young woman and will be a pretty and wise queen',\n",
    "          'man is strong', \n",
    "          'woman is pretty',\n",
    "          'prince is a boy will be a king',\n",
    "          'princess is a girl will be a queen']\n",
    "\n",
    "# corpus = ['왕은 매우 강한 남자이다', \n",
    "#           '여왕은 현명한 예쁜 여자이다', \n",
    "#           '소년은 젊은 남자이다',\n",
    "#           '소녀는 젊은 예쁜 여자이다',\n",
    "#           '왕자는 젊고 현명한 왕이 될 것이다',\n",
    "#           '공주는 젊고 예쁜 현명한 여왕이 될 것이다',\n",
    "#           '남자는 강하다', \n",
    "#           '여자는 예쁘다',\n",
    "#           '왕자는 왕이 될 소년이다',\n",
    "#           '공주는 왕비가 될 소녀이다']"
   ]
  },
  {
   "cell_type": "code",
   "execution_count": 30,
   "metadata": {
    "colab": {
     "base_uri": "https://localhost:8080/"
    },
    "id": "99QG7uy0cU-3",
    "outputId": "7b5deafd-5453-4453-84e3-912de9281651"
   },
   "outputs": [
    {
     "data": {
      "text/plain": [
       "['king is a very strong man',\n",
       " 'queen is a wise and pretty woman',\n",
       " 'boy is a young man',\n",
       " 'girl is a young and pretty woman',\n",
       " 'prince is young and will be a strong and wise king',\n",
       " 'princess is a young woman and will be a pretty and wise queen',\n",
       " 'man is strong',\n",
       " 'woman is pretty',\n",
       " 'prince is a boy will be a king',\n",
       " 'princess is a girl will be a queen']"
      ]
     },
     "execution_count": 30,
     "metadata": {},
     "output_type": "execute_result"
    }
   ],
   "source": [
    "cleaned_corpus = []\n",
    "for text in corpus:\n",
    "    text = re.sub(r'[^a-zA-Z ]', '', text)   #영문\n",
    "    # text = re.sub(r'[^가-힣 ]', '', text)        #한글\n",
    "    cleaned_corpus.append(text.lower())\n",
    "            \n",
    "cleaned_corpus"
   ]
  },
  {
   "cell_type": "code",
   "execution_count": 32,
   "metadata": {
    "id": "gYag9WYrb6cn"
   },
   "outputs": [],
   "source": [
    "stop_words = ['is', 'a' ,'will', 'be', 'and']\n",
    "# stop_words = ['은', '가', '이다', '는', '이', '될']\n",
    "\n",
    "results = []\n",
    "    \n",
    "for text in corpus:\n",
    "    tmp = []\n",
    "    for word in text.split():\n",
    "        if word not in stop_words:\n",
    "            tmp.append(word)\n",
    "    results.append(' '.join(tmp))"
   ]
  },
  {
   "cell_type": "markdown",
   "metadata": {
    "id": "8R3AZLqEb6co"
   },
   "source": [
    "### vocaburary 모음 작성"
   ]
  },
  {
   "cell_type": "code",
   "execution_count": 33,
   "metadata": {
    "id": "WWEw8Micb6co"
   },
   "outputs": [],
   "source": [
    "words = []\n",
    "\n",
    "for sentence in cleaned_corpus:\n",
    "    for word in sentence.split(' '):\n",
    "        words.append(word)\n",
    "\n",
    "words = set(words)"
   ]
  },
  {
   "cell_type": "markdown",
   "metadata": {
    "id": "cfguhBBTb6cp"
   },
   "source": [
    "### word-to-index, index-to-word 작성\n",
    "\n",
    "- word 를 index 로 변환  \n",
    "\n",
    "- sentence 를 word index 로 변환  \n",
    "\n",
    "- window size 에 따라 train data 생성"
   ]
  },
  {
   "cell_type": "code",
   "execution_count": 34,
   "metadata": {
    "id": "QaqoG6bDb6cp"
   },
   "outputs": [],
   "source": [
    "word2index = dict((w, i) for i, w in enumerate(words))\n",
    "index2word = dict((i, w) for i, w in enumerate(words))"
   ]
  },
  {
   "cell_type": "code",
   "execution_count": 35,
   "metadata": {
    "colab": {
     "base_uri": "https://localhost:8080/"
    },
    "id": "gMSkIAFHb6cp",
    "outputId": "ffeb4710-8d72-4f1e-8858-e7def8e2335a"
   },
   "outputs": [
    {
     "data": {
      "text/plain": [
       "{'a': 13,\n",
       " 'and': 8,\n",
       " 'be': 12,\n",
       " 'boy': 2,\n",
       " 'girl': 11,\n",
       " 'is': 16,\n",
       " 'king': 6,\n",
       " 'man': 17,\n",
       " 'pretty': 15,\n",
       " 'prince': 10,\n",
       " 'princess': 3,\n",
       " 'queen': 9,\n",
       " 'strong': 14,\n",
       " 'very': 5,\n",
       " 'will': 7,\n",
       " 'wise': 4,\n",
       " 'woman': 1,\n",
       " 'young': 0}"
      ]
     },
     "execution_count": 35,
     "metadata": {},
     "output_type": "execute_result"
    }
   ],
   "source": [
    "word2index"
   ]
  },
  {
   "cell_type": "markdown",
   "metadata": {
    "id": "5twfy1gIb6cq"
   },
   "source": [
    "### skip-gram 으로 training data 생성"
   ]
  },
  {
   "cell_type": "code",
   "execution_count": 37,
   "metadata": {
    "colab": {
     "base_uri": "https://localhost:8080/"
    },
    "id": "g1gTe8VBb6cq",
    "outputId": "32f01c27-d023-476b-ffc5-7851e84a942c"
   },
   "outputs": [
    {
     "data": {
      "text/plain": [
       "[['king', 'is', 'a', 'very', 'strong', 'man'],\n",
       " ['queen', 'is', 'a', 'wise', 'and', 'pretty', 'woman'],\n",
       " ['boy', 'is', 'a', 'young', 'man'],\n",
       " ['girl', 'is', 'a', 'young', 'and', 'pretty', 'woman'],\n",
       " ['prince',\n",
       "  'is',\n",
       "  'young',\n",
       "  'and',\n",
       "  'will',\n",
       "  'be',\n",
       "  'a',\n",
       "  'strong',\n",
       "  'and',\n",
       "  'wise',\n",
       "  'king'],\n",
       " ['princess',\n",
       "  'is',\n",
       "  'a',\n",
       "  'young',\n",
       "  'woman',\n",
       "  'and',\n",
       "  'will',\n",
       "  'be',\n",
       "  'a',\n",
       "  'pretty',\n",
       "  'and',\n",
       "  'wise',\n",
       "  'queen'],\n",
       " ['man', 'is', 'strong'],\n",
       " ['woman', 'is', 'pretty'],\n",
       " ['prince', 'is', 'a', 'boy', 'will', 'be', 'a', 'king'],\n",
       " ['princess', 'is', 'a', 'girl', 'will', 'be', 'a', 'queen']]"
      ]
     },
     "execution_count": 37,
     "metadata": {},
     "output_type": "execute_result"
    }
   ],
   "source": [
    "sentences = []\n",
    "for sentence in cleaned_corpus:\n",
    "    sentences.append(sentence.split())\n",
    "sentences"
   ]
  },
  {
   "cell_type": "code",
   "execution_count": 38,
   "metadata": {
    "id": "1LmNKgM0b6cq"
   },
   "outputs": [],
   "source": [
    "WINDOW_SIZE = 2\n",
    "\n",
    "data = []\n",
    "for sentence in sentences:\n",
    "    for idx, word in enumerate(sentence):\n",
    "        for neighbor in sentence[max(idx - WINDOW_SIZE, 0) : min(idx + WINDOW_SIZE, len(sentence)) + 1] : \n",
    "            if neighbor != word:\n",
    "                data.append([word, neighbor])"
   ]
  },
  {
   "cell_type": "code",
   "execution_count": 39,
   "metadata": {
    "colab": {
     "base_uri": "https://localhost:8080/"
    },
    "id": "p5Gm4AkWb6cr",
    "outputId": "2cc7f22b-a0db-4484-f029-c34a05b1f530"
   },
   "outputs": [
    {
     "data": {
      "text/plain": [
       "[['king', 'is'],\n",
       " ['king', 'a'],\n",
       " ['is', 'king'],\n",
       " ['is', 'a'],\n",
       " ['is', 'very'],\n",
       " ['a', 'king'],\n",
       " ['a', 'is'],\n",
       " ['a', 'very'],\n",
       " ['a', 'strong'],\n",
       " ['very', 'is']]"
      ]
     },
     "execution_count": 39,
     "metadata": {},
     "output_type": "execute_result"
    }
   ],
   "source": [
    "data[:10]"
   ]
  },
  {
   "cell_type": "code",
   "execution_count": 40,
   "metadata": {
    "colab": {
     "base_uri": "https://localhost:8080/",
     "height": 206
    },
    "id": "yifvlI1hb6cr",
    "outputId": "7459bea6-579c-4925-cc23-606e8fa8dfb3"
   },
   "outputs": [
    {
     "data": {
      "text/html": [
       "\n",
       "  <div id=\"df-f2eb725a-85e8-454a-85ee-04e4dce3fa0f\">\n",
       "    <div class=\"colab-df-container\">\n",
       "      <div>\n",
       "<style scoped>\n",
       "    .dataframe tbody tr th:only-of-type {\n",
       "        vertical-align: middle;\n",
       "    }\n",
       "\n",
       "    .dataframe tbody tr th {\n",
       "        vertical-align: top;\n",
       "    }\n",
       "\n",
       "    .dataframe thead th {\n",
       "        text-align: right;\n",
       "    }\n",
       "</style>\n",
       "<table border=\"1\" class=\"dataframe\">\n",
       "  <thead>\n",
       "    <tr style=\"text-align: right;\">\n",
       "      <th></th>\n",
       "      <th>input</th>\n",
       "      <th>label</th>\n",
       "    </tr>\n",
       "  </thead>\n",
       "  <tbody>\n",
       "    <tr>\n",
       "      <th>0</th>\n",
       "      <td>king</td>\n",
       "      <td>is</td>\n",
       "    </tr>\n",
       "    <tr>\n",
       "      <th>1</th>\n",
       "      <td>king</td>\n",
       "      <td>a</td>\n",
       "    </tr>\n",
       "    <tr>\n",
       "      <th>2</th>\n",
       "      <td>is</td>\n",
       "      <td>king</td>\n",
       "    </tr>\n",
       "    <tr>\n",
       "      <th>3</th>\n",
       "      <td>is</td>\n",
       "      <td>a</td>\n",
       "    </tr>\n",
       "    <tr>\n",
       "      <th>4</th>\n",
       "      <td>is</td>\n",
       "      <td>very</td>\n",
       "    </tr>\n",
       "  </tbody>\n",
       "</table>\n",
       "</div>\n",
       "      <button class=\"colab-df-convert\" onclick=\"convertToInteractive('df-f2eb725a-85e8-454a-85ee-04e4dce3fa0f')\"\n",
       "              title=\"Convert this dataframe to an interactive table.\"\n",
       "              style=\"display:none;\">\n",
       "        \n",
       "  <svg xmlns=\"http://www.w3.org/2000/svg\" height=\"24px\"viewBox=\"0 0 24 24\"\n",
       "       width=\"24px\">\n",
       "    <path d=\"M0 0h24v24H0V0z\" fill=\"none\"/>\n",
       "    <path d=\"M18.56 5.44l.94 2.06.94-2.06 2.06-.94-2.06-.94-.94-2.06-.94 2.06-2.06.94zm-11 1L8.5 8.5l.94-2.06 2.06-.94-2.06-.94L8.5 2.5l-.94 2.06-2.06.94zm10 10l.94 2.06.94-2.06 2.06-.94-2.06-.94-.94-2.06-.94 2.06-2.06.94z\"/><path d=\"M17.41 7.96l-1.37-1.37c-.4-.4-.92-.59-1.43-.59-.52 0-1.04.2-1.43.59L10.3 9.45l-7.72 7.72c-.78.78-.78 2.05 0 2.83L4 21.41c.39.39.9.59 1.41.59.51 0 1.02-.2 1.41-.59l7.78-7.78 2.81-2.81c.8-.78.8-2.07 0-2.86zM5.41 20L4 18.59l7.72-7.72 1.47 1.35L5.41 20z\"/>\n",
       "  </svg>\n",
       "      </button>\n",
       "      \n",
       "  <style>\n",
       "    .colab-df-container {\n",
       "      display:flex;\n",
       "      flex-wrap:wrap;\n",
       "      gap: 12px;\n",
       "    }\n",
       "\n",
       "    .colab-df-convert {\n",
       "      background-color: #E8F0FE;\n",
       "      border: none;\n",
       "      border-radius: 50%;\n",
       "      cursor: pointer;\n",
       "      display: none;\n",
       "      fill: #1967D2;\n",
       "      height: 32px;\n",
       "      padding: 0 0 0 0;\n",
       "      width: 32px;\n",
       "    }\n",
       "\n",
       "    .colab-df-convert:hover {\n",
       "      background-color: #E2EBFA;\n",
       "      box-shadow: 0px 1px 2px rgba(60, 64, 67, 0.3), 0px 1px 3px 1px rgba(60, 64, 67, 0.15);\n",
       "      fill: #174EA6;\n",
       "    }\n",
       "\n",
       "    [theme=dark] .colab-df-convert {\n",
       "      background-color: #3B4455;\n",
       "      fill: #D2E3FC;\n",
       "    }\n",
       "\n",
       "    [theme=dark] .colab-df-convert:hover {\n",
       "      background-color: #434B5C;\n",
       "      box-shadow: 0px 1px 3px 1px rgba(0, 0, 0, 0.15);\n",
       "      filter: drop-shadow(0px 1px 2px rgba(0, 0, 0, 0.3));\n",
       "      fill: #FFFFFF;\n",
       "    }\n",
       "  </style>\n",
       "\n",
       "      <script>\n",
       "        const buttonEl =\n",
       "          document.querySelector('#df-f2eb725a-85e8-454a-85ee-04e4dce3fa0f button.colab-df-convert');\n",
       "        buttonEl.style.display =\n",
       "          google.colab.kernel.accessAllowed ? 'block' : 'none';\n",
       "\n",
       "        async function convertToInteractive(key) {\n",
       "          const element = document.querySelector('#df-f2eb725a-85e8-454a-85ee-04e4dce3fa0f');\n",
       "          const dataTable =\n",
       "            await google.colab.kernel.invokeFunction('convertToInteractive',\n",
       "                                                     [key], {});\n",
       "          if (!dataTable) return;\n",
       "\n",
       "          const docLinkHtml = 'Like what you see? Visit the ' +\n",
       "            '<a target=\"_blank\" href=https://colab.research.google.com/notebooks/data_table.ipynb>data table notebook</a>'\n",
       "            + ' to learn more about interactive tables.';\n",
       "          element.innerHTML = '';\n",
       "          dataTable['output_type'] = 'display_data';\n",
       "          await google.colab.output.renderOutput(dataTable, element);\n",
       "          const docLink = document.createElement('div');\n",
       "          docLink.innerHTML = docLinkHtml;\n",
       "          element.appendChild(docLink);\n",
       "        }\n",
       "      </script>\n",
       "    </div>\n",
       "  </div>\n",
       "  "
      ],
      "text/plain": [
       "  input label\n",
       "0  king    is\n",
       "1  king     a\n",
       "2    is  king\n",
       "3    is     a\n",
       "4    is  very"
      ]
     },
     "execution_count": 40,
     "metadata": {},
     "output_type": "execute_result"
    }
   ],
   "source": [
    "import pandas as pd\n",
    "\n",
    "df = pd.DataFrame(data, columns = ['input', 'label'])\n",
    "df.head()"
   ]
  },
  {
   "cell_type": "markdown",
   "metadata": {
    "id": "7SyOqIrmb6cr"
   },
   "source": [
    "### One hot encoding"
   ]
  },
  {
   "cell_type": "code",
   "execution_count": 41,
   "metadata": {
    "colab": {
     "base_uri": "https://localhost:8080/"
    },
    "id": "sDSQ5S1Mb6cr",
    "outputId": "87dc1e37-bc52-449e-e4f9-abdddb3dc8a0"
   },
   "outputs": [
    {
     "data": {
      "text/plain": [
       "18"
      ]
     },
     "execution_count": 41,
     "metadata": {},
     "output_type": "execute_result"
    }
   ],
   "source": [
    "from tensorflow.keras.utils import to_categorical\n",
    "\n",
    "len(words)"
   ]
  },
  {
   "cell_type": "markdown",
   "metadata": {
    "id": "hGa4sgTWb6cs"
   },
   "source": [
    "### One hot encoding 된 train, label data"
   ]
  },
  {
   "cell_type": "code",
   "execution_count": 42,
   "metadata": {
    "id": "zfnXB5pTb6cs"
   },
   "outputs": [],
   "source": [
    "X = [] # input word\n",
    "Y = [] # target word\n",
    "\n",
    "for x, y in zip(df['input'], df['label']):\n",
    "    X.append(to_categorical(word2index[x], len(words)))\n",
    "    Y.append(to_categorical(word2index[x], len(words)))"
   ]
  },
  {
   "cell_type": "code",
   "execution_count": 43,
   "metadata": {
    "colab": {
     "base_uri": "https://localhost:8080/"
    },
    "id": "yg7eCP5Zb6ct",
    "outputId": "670f38d6-b2e7-46d8-f45c-383d0ea6a107"
   },
   "outputs": [
    {
     "name": "stdout",
     "output_type": "stream",
     "text": [
      "[array([0., 0., 0., 0., 0., 0., 1., 0., 0., 0., 0., 0., 0., 0., 0., 0., 0.,\n",
      "       0.], dtype=float32), array([0., 0., 0., 0., 0., 0., 1., 0., 0., 0., 0., 0., 0., 0., 0., 0., 0.,\n",
      "       0.], dtype=float32), array([0., 0., 0., 0., 0., 0., 0., 0., 0., 0., 0., 0., 0., 0., 0., 0., 1.,\n",
      "       0.], dtype=float32)]\n",
      "[array([0., 0., 0., 0., 0., 0., 1., 0., 0., 0., 0., 0., 0., 0., 0., 0., 0.,\n",
      "       0.], dtype=float32), array([0., 0., 0., 0., 0., 0., 1., 0., 0., 0., 0., 0., 0., 0., 0., 0., 0.,\n",
      "       0.], dtype=float32), array([0., 0., 0., 0., 0., 0., 0., 0., 0., 0., 0., 0., 0., 0., 0., 0., 1.,\n",
      "       0.], dtype=float32)]\n"
     ]
    }
   ],
   "source": [
    "print(X[:3])\n",
    "print(Y[:3])"
   ]
  },
  {
   "cell_type": "code",
   "execution_count": 44,
   "metadata": {
    "id": "SOoliOneb6ct"
   },
   "outputs": [],
   "source": [
    "# convert them to numpy arrays\n",
    "X_train = np.array(X)\n",
    "Y_train = np.array(Y)"
   ]
  },
  {
   "cell_type": "markdown",
   "metadata": {
    "id": "BXo_-FQ6b6ct"
   },
   "source": [
    "**시각화를 위해 hidden layer 의 unit 을 2 로 제한**"
   ]
  },
  {
   "cell_type": "code",
   "execution_count": 45,
   "metadata": {
    "id": "x5LTgXhMb6ct"
   },
   "outputs": [],
   "source": [
    "model = Sequential()\n",
    "model.add(Dense(2, input_dim=len(words)))\n",
    "model.add(Dense(len(words)))\n",
    "\n",
    "model.compile(loss=\"categorical_crossentropy\", optimizer='adam', metrics=['accuracy'])"
   ]
  },
  {
   "cell_type": "code",
   "execution_count": 46,
   "metadata": {
    "colab": {
     "base_uri": "https://localhost:8080/"
    },
    "id": "9FTjRtTAb6cu",
    "outputId": "6171fab2-3fff-4158-eb2e-4712750d9a38",
    "scrolled": true
   },
   "outputs": [
    {
     "name": "stdout",
     "output_type": "stream",
     "text": [
      "Epoch 1/50\n",
      "75/75 [==============================] - 1s 1ms/step - loss: 5.3387 - accuracy: 0.1071\n",
      "Epoch 2/50\n",
      "75/75 [==============================] - 0s 2ms/step - loss: 6.4770 - accuracy: 0.1071\n",
      "Epoch 3/50\n",
      "75/75 [==============================] - 0s 1ms/step - loss: 7.2675 - accuracy: 0.1071\n",
      "Epoch 4/50\n",
      "75/75 [==============================] - 0s 1ms/step - loss: 7.2675 - accuracy: 0.1071\n",
      "Epoch 5/50\n",
      "75/75 [==============================] - 0s 1ms/step - loss: 7.2675 - accuracy: 0.1071\n",
      "Epoch 6/50\n",
      "75/75 [==============================] - 0s 1ms/step - loss: 7.2675 - accuracy: 0.1071\n",
      "Epoch 7/50\n",
      "75/75 [==============================] - 0s 1ms/step - loss: 7.2675 - accuracy: 0.1071\n",
      "Epoch 8/50\n",
      "75/75 [==============================] - 0s 1ms/step - loss: 7.2675 - accuracy: 0.1071\n",
      "Epoch 9/50\n",
      "75/75 [==============================] - 0s 1ms/step - loss: 7.2675 - accuracy: 0.1071\n",
      "Epoch 10/50\n",
      "75/75 [==============================] - 0s 1ms/step - loss: 7.2675 - accuracy: 0.1071\n",
      "Epoch 11/50\n",
      "75/75 [==============================] - 0s 2ms/step - loss: 7.2675 - accuracy: 0.1071\n",
      "Epoch 12/50\n",
      "75/75 [==============================] - 0s 1ms/step - loss: 7.2675 - accuracy: 0.1071\n",
      "Epoch 13/50\n",
      "75/75 [==============================] - 0s 1ms/step - loss: 7.2675 - accuracy: 0.1071\n",
      "Epoch 14/50\n",
      "75/75 [==============================] - 0s 1ms/step - loss: 7.2675 - accuracy: 0.1071\n",
      "Epoch 15/50\n",
      "75/75 [==============================] - 0s 1ms/step - loss: 7.2675 - accuracy: 0.1071\n",
      "Epoch 16/50\n",
      "75/75 [==============================] - 0s 1ms/step - loss: 7.2675 - accuracy: 0.1071\n",
      "Epoch 17/50\n",
      "75/75 [==============================] - 0s 1ms/step - loss: 7.2675 - accuracy: 0.1071\n",
      "Epoch 18/50\n",
      "75/75 [==============================] - 0s 1ms/step - loss: 7.2675 - accuracy: 0.1071\n",
      "Epoch 19/50\n",
      "75/75 [==============================] - 0s 1ms/step - loss: 7.2675 - accuracy: 0.1071\n",
      "Epoch 20/50\n",
      "75/75 [==============================] - 0s 2ms/step - loss: 7.2675 - accuracy: 0.1071\n",
      "Epoch 21/50\n",
      "75/75 [==============================] - 0s 1ms/step - loss: 7.2675 - accuracy: 0.1071\n",
      "Epoch 22/50\n",
      "75/75 [==============================] - 0s 1ms/step - loss: 7.2675 - accuracy: 0.1071\n",
      "Epoch 23/50\n",
      "75/75 [==============================] - 0s 1ms/step - loss: 7.2675 - accuracy: 0.1071\n",
      "Epoch 24/50\n",
      "75/75 [==============================] - 0s 1ms/step - loss: 7.2675 - accuracy: 0.1071\n",
      "Epoch 25/50\n",
      "75/75 [==============================] - 0s 1ms/step - loss: 7.2675 - accuracy: 0.1071\n",
      "Epoch 26/50\n",
      "75/75 [==============================] - 0s 1ms/step - loss: 7.2675 - accuracy: 0.1071\n",
      "Epoch 27/50\n",
      "75/75 [==============================] - 0s 1ms/step - loss: 7.2675 - accuracy: 0.1071\n",
      "Epoch 28/50\n",
      "75/75 [==============================] - 0s 1ms/step - loss: 7.2675 - accuracy: 0.1071\n",
      "Epoch 29/50\n",
      "75/75 [==============================] - 0s 1ms/step - loss: 7.2675 - accuracy: 0.1071\n",
      "Epoch 30/50\n",
      "75/75 [==============================] - 0s 2ms/step - loss: 7.2675 - accuracy: 0.1071\n",
      "Epoch 31/50\n",
      "75/75 [==============================] - 0s 1ms/step - loss: 7.2675 - accuracy: 0.1071\n",
      "Epoch 32/50\n",
      "75/75 [==============================] - 0s 1ms/step - loss: 7.2675 - accuracy: 0.1071\n",
      "Epoch 33/50\n",
      "75/75 [==============================] - 0s 1ms/step - loss: 7.2675 - accuracy: 0.1071\n",
      "Epoch 34/50\n",
      "75/75 [==============================] - 0s 1ms/step - loss: 7.2675 - accuracy: 0.1071\n",
      "Epoch 35/50\n",
      "75/75 [==============================] - 0s 1ms/step - loss: 7.2675 - accuracy: 0.1071\n",
      "Epoch 36/50\n",
      "75/75 [==============================] - 0s 1ms/step - loss: 7.2675 - accuracy: 0.1071\n",
      "Epoch 37/50\n",
      "75/75 [==============================] - 0s 1ms/step - loss: 7.2675 - accuracy: 0.1071\n",
      "Epoch 38/50\n",
      "75/75 [==============================] - 0s 1ms/step - loss: 7.2675 - accuracy: 0.1071\n",
      "Epoch 39/50\n",
      "75/75 [==============================] - 0s 2ms/step - loss: 7.2675 - accuracy: 0.1071\n",
      "Epoch 40/50\n",
      "75/75 [==============================] - 0s 1ms/step - loss: 7.2675 - accuracy: 0.1071\n",
      "Epoch 41/50\n",
      "75/75 [==============================] - 0s 1ms/step - loss: 7.2675 - accuracy: 0.1071\n",
      "Epoch 42/50\n",
      "75/75 [==============================] - 0s 1ms/step - loss: 7.2675 - accuracy: 0.1071\n",
      "Epoch 43/50\n",
      "75/75 [==============================] - 0s 1ms/step - loss: 7.2675 - accuracy: 0.1071\n",
      "Epoch 44/50\n",
      "75/75 [==============================] - 0s 1ms/step - loss: 7.2675 - accuracy: 0.1071\n",
      "Epoch 45/50\n",
      "75/75 [==============================] - 0s 1ms/step - loss: 7.2675 - accuracy: 0.1071\n",
      "Epoch 46/50\n",
      "75/75 [==============================] - 0s 1ms/step - loss: 7.2675 - accuracy: 0.1071\n",
      "Epoch 47/50\n",
      "75/75 [==============================] - 0s 1ms/step - loss: 7.2675 - accuracy: 0.1071\n",
      "Epoch 48/50\n",
      "75/75 [==============================] - 0s 2ms/step - loss: 7.2675 - accuracy: 0.1071\n",
      "Epoch 49/50\n",
      "75/75 [==============================] - 0s 1ms/step - loss: 7.2675 - accuracy: 0.1071\n",
      "Epoch 50/50\n",
      "75/75 [==============================] - 0s 1ms/step - loss: 7.2675 - accuracy: 0.1071\n"
     ]
    },
    {
     "data": {
      "text/plain": [
       "<keras.callbacks.History at 0x7f7825aef390>"
      ]
     },
     "execution_count": 46,
     "metadata": {},
     "output_type": "execute_result"
    }
   ],
   "source": [
    "model.fit(X_train, Y_train, epochs=50, batch_size=3)"
   ]
  },
  {
   "cell_type": "markdown",
   "metadata": {
    "id": "BoOLyKbJb6cu"
   },
   "source": [
    "### 첫번째 Hidden Layer 추출 및 weight + bias 를 vector 로 합산"
   ]
  },
  {
   "cell_type": "code",
   "execution_count": 47,
   "metadata": {
    "colab": {
     "base_uri": "https://localhost:8080/"
    },
    "id": "UPSuqqoub6cu",
    "outputId": "2e3c78d6-d99e-4ddb-9714-ad8f57278f77"
   },
   "outputs": [
    {
     "name": "stdout",
     "output_type": "stream",
     "text": [
      "Model: \"sequential_1\"\n",
      "_________________________________________________________________\n",
      " Layer (type)                Output Shape              Param #   \n",
      "=================================================================\n",
      " dense_2 (Dense)             (None, 2)                 38        \n",
      "                                                                 \n",
      " dense_3 (Dense)             (None, 18)                54        \n",
      "                                                                 \n",
      "=================================================================\n",
      "Total params: 92\n",
      "Trainable params: 92\n",
      "Non-trainable params: 0\n",
      "_________________________________________________________________\n"
     ]
    }
   ],
   "source": [
    "model.summary()"
   ]
  },
  {
   "cell_type": "code",
   "execution_count": 48,
   "metadata": {
    "colab": {
     "base_uri": "https://localhost:8080/"
    },
    "id": "i8U3dDXeb6cv",
    "outputId": "71d7cf70-1c95-45fe-d11a-b9032a43596a"
   },
   "outputs": [
    {
     "data": {
      "text/plain": [
       "[array([[-0.46491668,  0.03204857],\n",
       "        [ 0.30909935,  0.15185425],\n",
       "        [ 0.39233708,  0.17128712],\n",
       "        [ 0.39790767, -0.53468174],\n",
       "        [ 0.3216365 ,  0.281909  ],\n",
       "        [-0.4571137 , -0.06147173],\n",
       "        [-0.42937514,  0.46379423],\n",
       "        [ 0.5332098 ,  0.09229332],\n",
       "        [-0.08853058,  0.28805646],\n",
       "        [-0.22022545,  0.04690278],\n",
       "        [-0.44879007,  0.0486176 ],\n",
       "        [-0.00932746, -0.4231839 ],\n",
       "        [ 0.06857268, -0.11131623],\n",
       "        [ 0.5447406 ,  0.1242673 ],\n",
       "        [-0.10900567, -0.01621198],\n",
       "        [-0.14671177,  0.0044657 ],\n",
       "        [-0.22733235, -0.49204335],\n",
       "        [-0.3319166 , -0.5340179 ]], dtype=float32),\n",
       " array([-0.00031873, -0.00900394], dtype=float32)]"
      ]
     },
     "execution_count": 48,
     "metadata": {},
     "output_type": "execute_result"
    }
   ],
   "source": [
    "model.layers[0].get_weights()"
   ]
  },
  {
   "cell_type": "code",
   "execution_count": 49,
   "metadata": {
    "colab": {
     "base_uri": "https://localhost:8080/"
    },
    "id": "uXL00ipcqhUQ",
    "outputId": "51fcbc4c-fd1f-440a-f17b-9f3bdf7411a3"
   },
   "outputs": [
    {
     "data": {
      "text/plain": [
       "array([-0.00031873, -0.00900394], dtype=float32)"
      ]
     },
     "execution_count": 49,
     "metadata": {},
     "output_type": "execute_result"
    }
   ],
   "source": [
    "model.layers[0].get_weights()[1]"
   ]
  },
  {
   "cell_type": "code",
   "execution_count": 50,
   "metadata": {
    "colab": {
     "base_uri": "https://localhost:8080/"
    },
    "id": "yLs6zg6cb6cv",
    "outputId": "794ccc40-f323-4838-cdf1-ba7e67e18461"
   },
   "outputs": [
    {
     "data": {
      "text/plain": [
       "array([[-0.4652354 ,  0.02304463],\n",
       "       [ 0.3087806 ,  0.14285031],\n",
       "       [ 0.39201835,  0.16228318],\n",
       "       [ 0.39758894, -0.5436857 ],\n",
       "       [ 0.32131776,  0.27290505]], dtype=float32)"
      ]
     },
     "execution_count": 50,
     "metadata": {},
     "output_type": "execute_result"
    }
   ],
   "source": [
    "vectors= model.layers[0].get_weights()[0] + model.layers[0].get_weights()[1]\n",
    "vectors[:5]"
   ]
  },
  {
   "cell_type": "code",
   "execution_count": 51,
   "metadata": {
    "colab": {
     "base_uri": "https://localhost:8080/",
     "height": 614
    },
    "id": "BrqruK1lb6cv",
    "outputId": "8a051bbf-deff-48fd-9628-42c38eb0b67d"
   },
   "outputs": [
    {
     "data": {
      "text/html": [
       "\n",
       "  <div id=\"df-9a0006be-6a1c-4949-a593-a2f546be2b25\">\n",
       "    <div class=\"colab-df-container\">\n",
       "      <div>\n",
       "<style scoped>\n",
       "    .dataframe tbody tr th:only-of-type {\n",
       "        vertical-align: middle;\n",
       "    }\n",
       "\n",
       "    .dataframe tbody tr th {\n",
       "        vertical-align: top;\n",
       "    }\n",
       "\n",
       "    .dataframe thead th {\n",
       "        text-align: right;\n",
       "    }\n",
       "</style>\n",
       "<table border=\"1\" class=\"dataframe\">\n",
       "  <thead>\n",
       "    <tr style=\"text-align: right;\">\n",
       "      <th></th>\n",
       "      <th>x1</th>\n",
       "      <th>x2</th>\n",
       "      <th>word</th>\n",
       "    </tr>\n",
       "  </thead>\n",
       "  <tbody>\n",
       "    <tr>\n",
       "      <th>0</th>\n",
       "      <td>-4.652354</td>\n",
       "      <td>0.230446</td>\n",
       "      <td>young</td>\n",
       "    </tr>\n",
       "    <tr>\n",
       "      <th>1</th>\n",
       "      <td>3.087806</td>\n",
       "      <td>1.428503</td>\n",
       "      <td>woman</td>\n",
       "    </tr>\n",
       "    <tr>\n",
       "      <th>2</th>\n",
       "      <td>3.920183</td>\n",
       "      <td>1.622832</td>\n",
       "      <td>boy</td>\n",
       "    </tr>\n",
       "    <tr>\n",
       "      <th>3</th>\n",
       "      <td>3.975889</td>\n",
       "      <td>-5.436857</td>\n",
       "      <td>princess</td>\n",
       "    </tr>\n",
       "    <tr>\n",
       "      <th>4</th>\n",
       "      <td>3.213178</td>\n",
       "      <td>2.729051</td>\n",
       "      <td>wise</td>\n",
       "    </tr>\n",
       "    <tr>\n",
       "      <th>5</th>\n",
       "      <td>-4.574325</td>\n",
       "      <td>-0.704757</td>\n",
       "      <td>very</td>\n",
       "    </tr>\n",
       "    <tr>\n",
       "      <th>6</th>\n",
       "      <td>-4.296939</td>\n",
       "      <td>4.547903</td>\n",
       "      <td>king</td>\n",
       "    </tr>\n",
       "    <tr>\n",
       "      <th>7</th>\n",
       "      <td>5.328911</td>\n",
       "      <td>0.832894</td>\n",
       "      <td>will</td>\n",
       "    </tr>\n",
       "    <tr>\n",
       "      <th>8</th>\n",
       "      <td>-0.888493</td>\n",
       "      <td>2.790525</td>\n",
       "      <td>and</td>\n",
       "    </tr>\n",
       "    <tr>\n",
       "      <th>9</th>\n",
       "      <td>-2.205442</td>\n",
       "      <td>0.378988</td>\n",
       "      <td>queen</td>\n",
       "    </tr>\n",
       "    <tr>\n",
       "      <th>10</th>\n",
       "      <td>-4.491088</td>\n",
       "      <td>0.396137</td>\n",
       "      <td>prince</td>\n",
       "    </tr>\n",
       "    <tr>\n",
       "      <th>11</th>\n",
       "      <td>-0.096462</td>\n",
       "      <td>-4.321878</td>\n",
       "      <td>girl</td>\n",
       "    </tr>\n",
       "    <tr>\n",
       "      <th>12</th>\n",
       "      <td>0.682539</td>\n",
       "      <td>-1.203202</td>\n",
       "      <td>be</td>\n",
       "    </tr>\n",
       "    <tr>\n",
       "      <th>13</th>\n",
       "      <td>5.444219</td>\n",
       "      <td>1.152634</td>\n",
       "      <td>a</td>\n",
       "    </tr>\n",
       "    <tr>\n",
       "      <th>14</th>\n",
       "      <td>-1.093244</td>\n",
       "      <td>-0.252159</td>\n",
       "      <td>strong</td>\n",
       "    </tr>\n",
       "    <tr>\n",
       "      <th>15</th>\n",
       "      <td>-1.470305</td>\n",
       "      <td>-0.045382</td>\n",
       "      <td>pretty</td>\n",
       "    </tr>\n",
       "    <tr>\n",
       "      <th>16</th>\n",
       "      <td>-2.276511</td>\n",
       "      <td>-5.010473</td>\n",
       "      <td>is</td>\n",
       "    </tr>\n",
       "    <tr>\n",
       "      <th>17</th>\n",
       "      <td>-3.322353</td>\n",
       "      <td>-5.430219</td>\n",
       "      <td>man</td>\n",
       "    </tr>\n",
       "  </tbody>\n",
       "</table>\n",
       "</div>\n",
       "      <button class=\"colab-df-convert\" onclick=\"convertToInteractive('df-9a0006be-6a1c-4949-a593-a2f546be2b25')\"\n",
       "              title=\"Convert this dataframe to an interactive table.\"\n",
       "              style=\"display:none;\">\n",
       "        \n",
       "  <svg xmlns=\"http://www.w3.org/2000/svg\" height=\"24px\"viewBox=\"0 0 24 24\"\n",
       "       width=\"24px\">\n",
       "    <path d=\"M0 0h24v24H0V0z\" fill=\"none\"/>\n",
       "    <path d=\"M18.56 5.44l.94 2.06.94-2.06 2.06-.94-2.06-.94-.94-2.06-.94 2.06-2.06.94zm-11 1L8.5 8.5l.94-2.06 2.06-.94-2.06-.94L8.5 2.5l-.94 2.06-2.06.94zm10 10l.94 2.06.94-2.06 2.06-.94-2.06-.94-.94-2.06-.94 2.06-2.06.94z\"/><path d=\"M17.41 7.96l-1.37-1.37c-.4-.4-.92-.59-1.43-.59-.52 0-1.04.2-1.43.59L10.3 9.45l-7.72 7.72c-.78.78-.78 2.05 0 2.83L4 21.41c.39.39.9.59 1.41.59.51 0 1.02-.2 1.41-.59l7.78-7.78 2.81-2.81c.8-.78.8-2.07 0-2.86zM5.41 20L4 18.59l7.72-7.72 1.47 1.35L5.41 20z\"/>\n",
       "  </svg>\n",
       "      </button>\n",
       "      \n",
       "  <style>\n",
       "    .colab-df-container {\n",
       "      display:flex;\n",
       "      flex-wrap:wrap;\n",
       "      gap: 12px;\n",
       "    }\n",
       "\n",
       "    .colab-df-convert {\n",
       "      background-color: #E8F0FE;\n",
       "      border: none;\n",
       "      border-radius: 50%;\n",
       "      cursor: pointer;\n",
       "      display: none;\n",
       "      fill: #1967D2;\n",
       "      height: 32px;\n",
       "      padding: 0 0 0 0;\n",
       "      width: 32px;\n",
       "    }\n",
       "\n",
       "    .colab-df-convert:hover {\n",
       "      background-color: #E2EBFA;\n",
       "      box-shadow: 0px 1px 2px rgba(60, 64, 67, 0.3), 0px 1px 3px 1px rgba(60, 64, 67, 0.15);\n",
       "      fill: #174EA6;\n",
       "    }\n",
       "\n",
       "    [theme=dark] .colab-df-convert {\n",
       "      background-color: #3B4455;\n",
       "      fill: #D2E3FC;\n",
       "    }\n",
       "\n",
       "    [theme=dark] .colab-df-convert:hover {\n",
       "      background-color: #434B5C;\n",
       "      box-shadow: 0px 1px 3px 1px rgba(0, 0, 0, 0.15);\n",
       "      filter: drop-shadow(0px 1px 2px rgba(0, 0, 0, 0.3));\n",
       "      fill: #FFFFFF;\n",
       "    }\n",
       "  </style>\n",
       "\n",
       "      <script>\n",
       "        const buttonEl =\n",
       "          document.querySelector('#df-9a0006be-6a1c-4949-a593-a2f546be2b25 button.colab-df-convert');\n",
       "        buttonEl.style.display =\n",
       "          google.colab.kernel.accessAllowed ? 'block' : 'none';\n",
       "\n",
       "        async function convertToInteractive(key) {\n",
       "          const element = document.querySelector('#df-9a0006be-6a1c-4949-a593-a2f546be2b25');\n",
       "          const dataTable =\n",
       "            await google.colab.kernel.invokeFunction('convertToInteractive',\n",
       "                                                     [key], {});\n",
       "          if (!dataTable) return;\n",
       "\n",
       "          const docLinkHtml = 'Like what you see? Visit the ' +\n",
       "            '<a target=\"_blank\" href=https://colab.research.google.com/notebooks/data_table.ipynb>data table notebook</a>'\n",
       "            + ' to learn more about interactive tables.';\n",
       "          element.innerHTML = '';\n",
       "          dataTable['output_type'] = 'display_data';\n",
       "          await google.colab.output.renderOutput(dataTable, element);\n",
       "          const docLink = document.createElement('div');\n",
       "          docLink.innerHTML = docLinkHtml;\n",
       "          element.appendChild(docLink);\n",
       "        }\n",
       "      </script>\n",
       "    </div>\n",
       "  </div>\n",
       "  "
      ],
      "text/plain": [
       "          x1        x2      word\n",
       "0  -4.652354  0.230446     young\n",
       "1   3.087806  1.428503     woman\n",
       "2   3.920183  1.622832       boy\n",
       "3   3.975889 -5.436857  princess\n",
       "4   3.213178  2.729051      wise\n",
       "5  -4.574325 -0.704757      very\n",
       "6  -4.296939  4.547903      king\n",
       "7   5.328911  0.832894      will\n",
       "8  -0.888493  2.790525       and\n",
       "9  -2.205442  0.378988     queen\n",
       "10 -4.491088  0.396137    prince\n",
       "11 -0.096462 -4.321878      girl\n",
       "12  0.682539 -1.203202        be\n",
       "13  5.444219  1.152634         a\n",
       "14 -1.093244 -0.252159    strong\n",
       "15 -1.470305 -0.045382    pretty\n",
       "16 -2.276511 -5.010473        is\n",
       "17 -3.322353 -5.430219       man"
      ]
     },
     "execution_count": 51,
     "metadata": {},
     "output_type": "execute_result"
    }
   ],
   "source": [
    "w2v = pd.DataFrame(vectors, columns = ['x1', 'x2'])\n",
    "w2v['word'] = list(words)\n",
    "w2v['x1'] *= 10\n",
    "w2v['x2'] *= 10\n",
    "w2v"
   ]
  },
  {
   "cell_type": "code",
   "execution_count": 52,
   "metadata": {
    "colab": {
     "base_uri": "https://localhost:8080/",
     "height": 497
    },
    "id": "PCuR_gB-b6cv",
    "outputId": "9b83ab5a-16aa-464d-84d1-886cf811164f"
   },
   "outputs": [
    {
     "data": {
      "image/png": "[encoded data removed]",
      "text/plain": [
       "<Figure size 864x576 with 1 Axes>"
      ]
     },
     "metadata": {
      "needs_background": "light"
     },
     "output_type": "display_data"
    }
   ],
   "source": [
    "import matplotlib.pyplot as plt\n",
    "%matplotlib inline\n",
    "#한글 폰트 사용\n",
    "# from matplotlib import font_manager\n",
    "# import matplotlib\n",
    "# font_path = \"C:/Windows/Fonts/H2GTRM.TTF\"                       #폰트 경로\n",
    "# font_name = font_manager.FontProperties(fname=font_path).get_name()  #폰트 이름 얻어오기\n",
    "# matplotlib.rc('font', family=font_name)                                 #font 지정\n",
    "# matplotlib.rcParams['axes.unicode_minus'] = False               #한글사용시 마이너스 사인 깨짐 방지\n",
    "\n",
    "fig, ax = plt.subplots(figsize=(12,8))\n",
    "\n",
    "for word, x1, x2 in zip(w2v['word'], w2v['x1'], w2v['x2']):\n",
    "    ax.annotate(word, (x1, x2))\n",
    "    \n",
    "PADDING = 1.0\n",
    "x_axis_min = np.min(vectors, axis=0)[0] - PADDING\n",
    "y_axis_min = np.min(vectors, axis=0)[1] - PADDING\n",
    "x_axis_max = np.max(vectors, axis=0)[0] + PADDING\n",
    "y_axis_max = np.max(vectors, axis=0)[1] + PADDING\n",
    " \n",
    "plt.xlim(x_axis_min, x_axis_max)\n",
    "plt.ylim(y_axis_min, y_axis_max)\n",
    "plt.xlabel('x1')\n",
    "plt.ylabel('x2')\n",
    "\n",
    "plt.show()"
   ]
  },
  {
   "cell_type": "code",
   "execution_count": 65,
   "metadata": {
    "id": "B7eag7EytMpJ"
   },
   "outputs": [],
   "source": []
  }
 ],
 "metadata": {
  "colab": {
   "name": "015_word2vec.ipynb",
   "provenance": []
  },
  "kernelspec": {
   "display_name": "Python 3 (ipykernel)",
   "language": "python",
   "name": "python3"
  },
  "language_info": {
   "codemirror_mode": {
    "name": "ipython",
    "version": 3
   },
   "file_extension": ".py",
   "mimetype": "text/x-python",
   "name": "python",
   "nbconvert_exporter": "python",
   "pygments_lexer": "ipython3",
   "version": "3.8.12"
  }
 },
 "nbformat": 4,
 "nbformat_minor": 1
}
